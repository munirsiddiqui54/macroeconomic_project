{
 "cells": [
  {
   "cell_type": "markdown",
   "metadata": {},
   "source": [
    "# Macroeconomic Data EDA\n",
    "\n",
    "This notebook explores GDP growth, inflation, and unemployment data across countries."
   ]
  },
  {
   "cell_type": "code",
   "execution_count": 1,
   "metadata": {},
   "outputs": [],
   "source": [
    "import pandas as pd\n",
    "import numpy as np\n",
    "import matplotlib.pyplot as plt\n",
    "import seaborn as sns\n",
    "import plotly.express as px\n",
    "import plotly.graph_objects as go\n",
    "from plotly.subplots import make_subplots\n",
    "\n",
    "# Set style\n",
    "sns.set_style('whitegrid')\n",
    "plt.rcParams['figure.figsize'] = (12, 6)\n",
    "\n",
    "%matplotlib inline"
   ]
  },
  {
   "cell_type": "markdown",
   "metadata": {},
   "source": [
    "## 1. Load Data"
   ]
  },
  {
   "cell_type": "code",
   "execution_count": 2,
   "metadata": {},
   "outputs": [
    {
     "name": "stdout",
     "output_type": "stream",
     "text": [
      "Dataset shape: (14364, 6)\n"
     ]
    },
    {
     "data": {
      "text/html": [
       "<div>\n",
       "<style scoped>\n",
       "    .dataframe tbody tr th:only-of-type {\n",
       "        vertical-align: middle;\n",
       "    }\n",
       "\n",
       "    .dataframe tbody tr th {\n",
       "        vertical-align: top;\n",
       "    }\n",
       "\n",
       "    .dataframe thead th {\n",
       "        text-align: right;\n",
       "    }\n",
       "</style>\n",
       "<table border=\"1\" class=\"dataframe\">\n",
       "  <thead>\n",
       "    <tr style=\"text-align: right;\">\n",
       "      <th></th>\n",
       "      <th>Country Name</th>\n",
       "      <th>Country Code</th>\n",
       "      <th>Year</th>\n",
       "      <th>GDP_Growth</th>\n",
       "      <th>Inflation</th>\n",
       "      <th>Unemployment</th>\n",
       "    </tr>\n",
       "  </thead>\n",
       "  <tbody>\n",
       "    <tr>\n",
       "      <th>0</th>\n",
       "      <td>Aruba</td>\n",
       "      <td>ABW</td>\n",
       "      <td>1971</td>\n",
       "      <td>16.078431</td>\n",
       "      <td>4.032258</td>\n",
       "      <td>6.08</td>\n",
       "    </tr>\n",
       "    <tr>\n",
       "      <th>1</th>\n",
       "      <td>Aruba</td>\n",
       "      <td>ABW</td>\n",
       "      <td>1972</td>\n",
       "      <td>16.078431</td>\n",
       "      <td>4.032258</td>\n",
       "      <td>6.08</td>\n",
       "    </tr>\n",
       "    <tr>\n",
       "      <th>2</th>\n",
       "      <td>Aruba</td>\n",
       "      <td>ABW</td>\n",
       "      <td>1973</td>\n",
       "      <td>16.078431</td>\n",
       "      <td>4.032258</td>\n",
       "      <td>6.08</td>\n",
       "    </tr>\n",
       "    <tr>\n",
       "      <th>3</th>\n",
       "      <td>Aruba</td>\n",
       "      <td>ABW</td>\n",
       "      <td>1974</td>\n",
       "      <td>16.078431</td>\n",
       "      <td>4.032258</td>\n",
       "      <td>6.08</td>\n",
       "    </tr>\n",
       "    <tr>\n",
       "      <th>4</th>\n",
       "      <td>Aruba</td>\n",
       "      <td>ABW</td>\n",
       "      <td>1975</td>\n",
       "      <td>16.078431</td>\n",
       "      <td>4.032258</td>\n",
       "      <td>6.08</td>\n",
       "    </tr>\n",
       "  </tbody>\n",
       "</table>\n",
       "</div>"
      ],
      "text/plain": [
       "  Country Name Country Code  Year  GDP_Growth  Inflation  Unemployment\n",
       "0        Aruba          ABW  1971   16.078431   4.032258          6.08\n",
       "1        Aruba          ABW  1972   16.078431   4.032258          6.08\n",
       "2        Aruba          ABW  1973   16.078431   4.032258          6.08\n",
       "3        Aruba          ABW  1974   16.078431   4.032258          6.08\n",
       "4        Aruba          ABW  1975   16.078431   4.032258          6.08"
      ]
     },
     "execution_count": 2,
     "metadata": {},
     "output_type": "execute_result"
    }
   ],
   "source": [
    "# Load processed data\n",
    "df = pd.read_csv('../data/processed/macroeconomic.csv')\n",
    "\n",
    "print(f'Dataset shape: {df.shape}')\n",
    "df.head()"
   ]
  },
  {
   "cell_type": "markdown",
   "metadata": {},
   "source": [
    "## 2. Data Overview"
   ]
  },
  {
   "cell_type": "code",
   "execution_count": 3,
   "metadata": {},
   "outputs": [
    {
     "name": "stdout",
     "output_type": "stream",
     "text": [
      "<class 'pandas.core.frame.DataFrame'>\n",
      "RangeIndex: 14364 entries, 0 to 14363\n",
      "Data columns (total 6 columns):\n",
      " #   Column        Non-Null Count  Dtype  \n",
      "---  ------        --------------  -----  \n",
      " 0   Country Name  14364 non-null  object \n",
      " 1   Country Code  14364 non-null  object \n",
      " 2   Year          14364 non-null  int64  \n",
      " 3   GDP_Growth    14148 non-null  float64\n",
      " 4   Inflation     12960 non-null  float64\n",
      " 5   Unemployment  13230 non-null  float64\n",
      "dtypes: float64(3), int64(1), object(2)\n",
      "memory usage: 673.4+ KB\n"
     ]
    }
   ],
   "source": [
    "# Basic info\n",
    "df.info()"
   ]
  },
  {
   "cell_type": "code",
   "execution_count": 4,
   "metadata": {},
   "outputs": [
    {
     "data": {
      "text/html": [
       "<div>\n",
       "<style scoped>\n",
       "    .dataframe tbody tr th:only-of-type {\n",
       "        vertical-align: middle;\n",
       "    }\n",
       "\n",
       "    .dataframe tbody tr th {\n",
       "        vertical-align: top;\n",
       "    }\n",
       "\n",
       "    .dataframe thead th {\n",
       "        text-align: right;\n",
       "    }\n",
       "</style>\n",
       "<table border=\"1\" class=\"dataframe\">\n",
       "  <thead>\n",
       "    <tr style=\"text-align: right;\">\n",
       "      <th></th>\n",
       "      <th>Year</th>\n",
       "      <th>GDP_Growth</th>\n",
       "      <th>Inflation</th>\n",
       "      <th>Unemployment</th>\n",
       "    </tr>\n",
       "  </thead>\n",
       "  <tbody>\n",
       "    <tr>\n",
       "      <th>count</th>\n",
       "      <td>14364.000000</td>\n",
       "      <td>12567.000000</td>\n",
       "      <td>10301.000000</td>\n",
       "      <td>5610.000000</td>\n",
       "    </tr>\n",
       "    <tr>\n",
       "      <th>mean</th>\n",
       "      <td>1997.500000</td>\n",
       "      <td>3.451433</td>\n",
       "      <td>20.758465</td>\n",
       "      <td>7.890568</td>\n",
       "    </tr>\n",
       "    <tr>\n",
       "      <th>std</th>\n",
       "      <td>15.586327</td>\n",
       "      <td>6.172925</td>\n",
       "      <td>297.933597</td>\n",
       "      <td>5.718558</td>\n",
       "    </tr>\n",
       "    <tr>\n",
       "      <th>min</th>\n",
       "      <td>1971.000000</td>\n",
       "      <td>-64.047107</td>\n",
       "      <td>-17.640424</td>\n",
       "      <td>0.039000</td>\n",
       "    </tr>\n",
       "    <tr>\n",
       "      <th>25%</th>\n",
       "      <td>1984.000000</td>\n",
       "      <td>1.268232</td>\n",
       "      <td>2.497795</td>\n",
       "      <td>4.108114</td>\n",
       "    </tr>\n",
       "    <tr>\n",
       "      <th>50%</th>\n",
       "      <td>1997.500000</td>\n",
       "      <td>3.625449</td>\n",
       "      <td>5.161899</td>\n",
       "      <td>6.600000</td>\n",
       "    </tr>\n",
       "    <tr>\n",
       "      <th>75%</th>\n",
       "      <td>2011.000000</td>\n",
       "      <td>5.889827</td>\n",
       "      <td>9.986325</td>\n",
       "      <td>9.938750</td>\n",
       "    </tr>\n",
       "    <tr>\n",
       "      <th>max</th>\n",
       "      <td>2024.000000</td>\n",
       "      <td>149.972963</td>\n",
       "      <td>23773.131774</td>\n",
       "      <td>57.000000</td>\n",
       "    </tr>\n",
       "  </tbody>\n",
       "</table>\n",
       "</div>"
      ],
      "text/plain": [
       "               Year    GDP_Growth     Inflation  Unemployment\n",
       "count  14364.000000  12567.000000  10301.000000   5610.000000\n",
       "mean    1997.500000      3.451433     20.758465      7.890568\n",
       "std       15.586327      6.172925    297.933597      5.718558\n",
       "min     1971.000000    -64.047107    -17.640424      0.039000\n",
       "25%     1984.000000      1.268232      2.497795      4.108114\n",
       "50%     1997.500000      3.625449      5.161899      6.600000\n",
       "75%     2011.000000      5.889827      9.986325      9.938750\n",
       "max     2024.000000    149.972963  23773.131774     57.000000"
      ]
     },
     "execution_count": 4,
     "metadata": {},
     "output_type": "execute_result"
    }
   ],
   "source": [
    "# Summary statistics\n",
    "df.describe()"
   ]
  },
  {
   "cell_type": "code",
   "execution_count": 4,
   "metadata": {},
   "outputs": [
    {
     "name": "stdout",
     "output_type": "stream",
     "text": [
      "Missing values percentage:\n",
      "Inflation       9.774436\n",
      "Unemployment    7.894737\n",
      "GDP_Growth      1.503759\n",
      "dtype: float64\n"
     ]
    }
   ],
   "source": [
    "# Check for missing values\n",
    "missing_pct = (df.isnull().sum() / len(df)) * 100\n",
    "print('Missing values percentage:')\n",
    "print(missing_pct[missing_pct > 0].sort_values(ascending=False))"
   ]
  },
  {
   "cell_type": "markdown",
   "metadata": {},
   "source": [
    "## 3. Distribution Analysis"
   ]
  },
  {
   "cell_type": "code",
   "execution_count": 5,
   "metadata": {},
   "outputs": [
    {
     "data": {
      "image/png": "[encoded data removed]",
      "text/plain": [
       "<Figure size 1800x500 with 3 Axes>"
      ]
     },
     "metadata": {},
     "output_type": "display_data"
    }
   ],
   "source": [
    "# Distribution of economic indicators\n",
    "fig, axes = plt.subplots(1, 3, figsize=(18, 5))\n",
    "\n",
    "df['GDP_Growth'].dropna().hist(bins=50, ax=axes[0], edgecolor='black')\n",
    "axes[0].set_title('GDP Growth Distribution')\n",
    "axes[0].set_xlabel('GDP Growth (%)')\n",
    "axes[0].set_ylabel('Frequency')\n",
    "\n",
    "df['Inflation'].dropna().hist(bins=50, ax=axes[1], edgecolor='black')\n",
    "axes[1].set_title('Inflation Distribution')\n",
    "axes[1].set_xlabel('Inflation (%)')\n",
    "axes[1].set_ylabel('Frequency')\n",
    "\n",
    "df['Unemployment'].dropna().hist(bins=50, ax=axes[2], edgecolor='black')\n",
    "axes[2].set_title('Unemployment Distribution')\n",
    "axes[2].set_xlabel('Unemployment (%)')\n",
    "axes[2].set_ylabel('Frequency')\n",
    "\n",
    "plt.tight_layout()\n",
    "plt.show()"
   ]
  },
  {
   "cell_type": "markdown",
   "metadata": {},
   "source": [
    "## 4. Time Series Analysis"
   ]
  },
  {
   "cell_type": "code",
   "execution_count": 6,
   "metadata": {},
   "outputs": [
    {
     "data": {
      "image/png": "[encoded data removed]",
      "text/plain": [
       "<Figure size 1400x600 with 1 Axes>"
      ]
     },
     "metadata": {},
     "output_type": "display_data"
    }
   ],
   "source": [
    "# Average indicators over time\n",
    "avg_by_year = df.groupby('Year')[['GDP_Growth', 'Inflation', 'Unemployment']].mean()\n",
    "\n",
    "fig, ax = plt.subplots(figsize=(14, 6))\n",
    "avg_by_year.plot(ax=ax, marker='o')\n",
    "ax.set_title('Average Economic Indicators Over Time (1971-2024)', fontsize=14, fontweight='bold')\n",
    "ax.set_xlabel('Year')\n",
    "ax.set_ylabel('Percentage (%)')\n",
    "ax.legend(['GDP Growth', 'Inflation', 'Unemployment'])\n",
    "ax.grid(True, alpha=0.3)\n",
    "plt.tight_layout()\n",
    "plt.show()"
   ]
  },
  {
   "cell_type": "markdown",
   "metadata": {},
   "source": [
    "## 5. Correlation Analysis"
   ]
  },
  {
   "cell_type": "code",
   "execution_count": 7,
   "metadata": {},
   "outputs": [
    {
     "data": {
      "image/png": "[encoded data removed]",
      "text/plain": [
       "<Figure size 800x600 with 2 Axes>"
      ]
     },
     "metadata": {},
     "output_type": "display_data"
    }
   ],
   "source": [
    "# Correlation matrix\n",
    "correlation = df[['GDP_Growth', 'Inflation', 'Unemployment']].corr()\n",
    "\n",
    "plt.figure(figsize=(8, 6))\n",
    "sns.heatmap(correlation, annot=True, cmap='coolwarm', center=0, \n",
    "            square=True, linewidths=1, cbar_kws={'shrink': 0.8})\n",
    "plt.title('Correlation Between Economic Indicators', fontsize=14, fontweight='bold')\n",
    "plt.tight_layout()\n",
    "plt.show()"
   ]
  },
  {
   "cell_type": "markdown",
   "metadata": {},
   "source": [
    "## 6. Country-wise Analysis"
   ]
  },
  {
   "cell_type": "code",
   "execution_count": 8,
   "metadata": {},
   "outputs": [
    {
     "data": {
      "image/png": "[encoded data removed]",
      "text/plain": [
       "<Figure size 1200x600 with 1 Axes>"
      ]
     },
     "metadata": {},
     "output_type": "display_data"
    }
   ],
   "source": [
    "# Top 10 countries by average GDP growth\n",
    "top_gdp = df.groupby('Country Name')['GDP_Growth'].mean().sort_values(ascending=False).head(10)\n",
    "\n",
    "plt.figure(figsize=(12, 6))\n",
    "top_gdp.plot(kind='barh', color='steelblue')\n",
    "plt.title('Top 10 Countries by Average GDP Growth (1971-2024)', fontsize=14, fontweight='bold')\n",
    "plt.xlabel('Average GDP Growth (%)')\n",
    "plt.ylabel('Country')\n",
    "plt.tight_layout()\n",
    "plt.show()"
   ]
  },
  {
   "cell_type": "markdown",
   "metadata": {},
   "source": [
    "## 7. Interactive Visualization"
   ]
  },
  {
   "cell_type": "code",
   "execution_count": 9,
   "metadata": {},
   "outputs": [
    {
     "data": {
      "application/vnd.plotly.v1+json": {
       "config": {
        "plotlyServerURL": "https://plot.ly"
       },
       "data": [
        {
         "hovertemplate": "Country Name=Aruba<br>Year=%{x}<br>GDP Growth (%)=%{y}<extra></extra>",
         "legendgroup": "Aruba",
         "line": {
          "color": "#636efa",
          "dash": "solid"
         },
         "marker": {
          "symbol": "circle"
         },
         "mode": "lines",
         "name": "Aruba",
         "orientation": "v",
         "showlegend": true,
         "type": "scatter",
         "x": {
          "bdata": "swe0B7UHtge3B7gHuQe6B7sHvAe9B74HvwfAB8EHwgfDB8QHxQfGB8cHyAfJB8oHywfMB80HzgfPB9AH0QfSB9MH1AfVB9YH1wfYB9kH2gfbB9wH3QfeB98H4AfhB+IH4wfkB+UH5gfnB+gH",
          "dtype": "i2"
         },
         "xaxis": "x",
         "y": {
          "bdata": "5CMhFBQUMEDkIyEUFBQwQOQjIRQUFDBA5CMhFBQUMEDkIyEUFBQwQOQjIRQUFDBA5CMhFBQUMEDkIyEUFBQwQOQjIRQUFDBA5CMhFBQUMEDkIyEUFBQwQOQjIRQUFDBA5CMhFBQUMEDkIyEUFBQwQOQjIRQUFDBA5CMhFBQUMEDkIyEUFBQwQLan0NYNpjJAo5e+dXpCKEAIqAlj87APQOBWIgz72R9Awrd1y4eHF0DFSyfwEzsdQPYhE8BlaCBAv6KQ3oxgBEDHS8Nf/fjyP4ykff//LxxACcrtFSvf/z8Ub2z2BM/zP0QGI+nefR5AkeKqol66EEB//jkVDz3uv8KhinigxPE/YcsqDccsHUADSdjeU4XYv1Q8eJrgCfI/6czjC2O3CEBWUK3QQF/9P7dPseoAWyfAhcBGmB7eBcBCXvWfMvQKQO+TkMcdp/C/EiBnk9a5GUABjbGcnGL5v4Hv806+9OO/w3+ge5WD+z9AI2e8sjEcQD4gj4c7LQNA2eiwkArcAcBX+33ZOTY6wH3I0N3zIThAPnjXjywJIUDF5VJ2DA4RQMXlUnYMDhFA",
          "dtype": "f8"
         },
         "yaxis": "y"
        },
        {
         "hovertemplate": "Country Name=Africa Eastern and Southern<br>Year=%{x}<br>GDP Growth (%)=%{y}<extra></extra>",
         "legendgroup": "Africa Eastern and Southern",
         "line": {
          "color": "#EF553B",
          "dash": "solid"
         },
         "marker": {
          "symbol": "circle"
         },
         "mode": "lines",
         "name": "Africa Eastern and Southern",
         "orientation": "v",
         "showlegend": true,
         "type": "scatter",
         "x": {
          "bdata": "swe0B7UHtge3B7gHuQe6B7sHvAe9B74HvwfAB8EHwgfDB8QHxQfGB8cHyAfJB8oHywfMB80HzgfPB9AH0QfSB9MH1AfVB9YH1wfYB9kH2gfbB9wH3QfeB98H4AfhB+IH4wfkB+UH5gfnB+gH",
          "dtype": "i2"
         },
         "xaxis": "x",
         "y": {
          "bdata": "wBkCvNjqFUADQnLNVCsGQLO/hCYBbRJAs9EomDvnFUCR9SnNIXj2PwNpQUy/DgNAsqczGyzu8T89aAhEQyP4PyfIwTm2cQdAXPwRrG/bFUAEy0LrbQ4QQAHiQit2K9Q/ApBpJ94ipD8cAbAlGOwKQPjH9kOAY8C/RwTF/8YgAkCf81xk3aIPQGDyxFOwGBFAFZXi+xuSBUDwHb530YLGP/4L3KlOcLi/mCgf5CDNAsAD1r0EmC7jv4rMmsOZ6f4/wCIhYm4hEUCC58YzPdEVQGYcg35evA5AjQRJIMUK/D89QTMgvDEFQOEyft2EsglAgmMuUz0LDEAEltGSuKsOQHYKMjqenwdAkFQEJ8E3FkAQqRuoZKYYQAxdtRBMTxpA2zoZJHaWGkBDKP0U9nYRQAIoVZaZkOw/UrsTIO/UFEA8x9phVjwQQGvJT26aSfw/T5kQv1lFEUBQlqfpsQ4QQIF1iD3lBghA/PiP1mORAUBqiZMj5ZEFQL7SZnv/UQVA9cu7FUyaAUA1MXRk1uAGwLI2Xf0XQRJAlfzn5zZyDEB9peyIy0L+P8jdhf5pIgZA",
          "dtype": "f8"
         },
         "yaxis": "y"
        },
        {
         "hovertemplate": "Country Name=Afghanistan<br>Year=%{x}<br>GDP Growth (%)=%{y}<extra></extra>",
         "legendgroup": "Afghanistan",
         "line": {
          "color": "#00cc96",
          "dash": "solid"
         },
         "marker": {
          "symbol": "circle"
         },
         "mode": "lines",
         "name": "Afghanistan",
         "orientation": "v",
         "showlegend": true,
         "type": "scatter",
         "x": {
          "bdata": "swe0B7UHtge3B7gHuQe6B7sHvAe9B74HvwfAB8EHwgfDB8QHxQfGB8cHyAfJB8oHywfMB80HzgfPB9AH0QfSB9MH1AfVB9YH1wfYB9kH2gfbB9wH3QfeB98H4AfhB+IH4wfkB+UH5gfnB+gH",
          "dtype": "i2"
         },
         "xaxis": "x",
         "y": {
          "bdata": "AXuPtCvdIsABe4+0K90iwAF7j7Qr3SLAAXuPtCvdIsABe4+0K90iwAF7j7Qr3SLAAXuPtCvdIsABe4+0K90iwAF7j7Qr3SLAAXuPtCvdIsABe4+0K90iwAF7j7Qr3SLAAXuPtCvdIsABe4+0K90iwAF7j7Qr3SLAAXuPtCvdIsABe4+0K90iwAF7j7Qr3SLAAXuPtCvdIsABe4+0K90iwAF7j7Qr3SLAAXuPtCvdIsABe4+0K90iwAF7j7Qr3SLAAXuPtCvdIsABe4+0K90iwAF7j7Qr3SLAAXuPtCvdIsABe4+0K90iwAF7j7Qr3SLAAXuPtCvdIsCOoD2tmZk8QLci8VAgqiFAlgRlMDqg9j/OMo0unXUmQLG+7R37bRVA5OsNWxOnK0BrpsHqXWYPQHeWMqv5YzVAi/Ox7ZG5LEAIIrCLZUnbP0ZwGMYrgSlAwUmYmylnFkBIUOlj3csFQAQjvLiVOPc/+Z7dnB8VAkBnlOEDEC0FQEQ0NxMUB/M/KOpdu/ZKD0Cd8H/eDc8CwJT8qJMkvTTAjCOTpe/1GMBb1tBlsyICQFvW0GWzIgJA",
          "dtype": "f8"
         },
         "yaxis": "y"
        },
        {
         "hovertemplate": "Country Name=Africa Western and Central<br>Year=%{x}<br>GDP Growth (%)=%{y}<extra></extra>",
         "legendgroup": "Africa Western and Central",
         "line": {
          "color": "#ab63fa",
          "dash": "solid"
         },
         "marker": {
          "symbol": "circle"
         },
         "mode": "lines",
         "name": "Africa Western and Central",
         "orientation": "v",
         "showlegend": true,
         "type": "scatter",
         "x": {
          "bdata": "swe0B7UHtge3B7gHuQe6B7sHvAe9B74HvwfAB8EHwgfDB8QHxQfGB8cHyAfJB8oHywfMB80HzgfPB9AH0QfSB9MH1AfVB9YH1wfYB9kH2gfbB9wH3QfeB98H4AfhB+IH4wfkB+UH5gfnB+gH",
          "dtype": "i2"
         },
         "xaxis": "x",
         "y": {
          "bdata": "LapZQRPoJECmMreTujkJQMIHeLg8ng9A/+35x4LzI0DbwV7rUp8AwFoq3ocmyiBAkJtZbK40EkB+++FC2K/+v0HGCMO1ARRAllA7ch5+/j/DKNSiL84awH0Ejq2IyAnA38k9n4QCGcD8GV7p5lbhP7Fx0DUdlBVAEfdh7Zxm9T//NRCJQ+D2P5yAI7YkuBJAdNBHCqyg+z9ury7+mskWQAaslw9iE/E/AEwtLkDNAkA7uWnGZM31v/8dcfnjH9K/kglID7/B/T+1RMCUOYQSQFJPOJi/nBFANxFuzsP8DECwfP7JdnP4PwsVbW9lvQ5AXkXjWwDUFECiKKfUBvAjQJXAfYsFZBZAWhB2/ngwIEA0vA5lAKYXQC/Fdka1axVAa/a7c2ICFkDExF0BwxoZQD9h1LeKgBhAPWrPFssgHEAz2FDgYskTQJK0QwvzjxRA/Z5JCLIcGEBNkRm6jtkWQNsXZU2QbAdAD5pT187ayD/Ei1EXjV4CQPVY2m67PAdAglaCrN5BCkB/oo7T433vvwHTdWa4HhBAyPPer7nMD0DLchtJKN0KQOBb2VBUtBBA",
          "dtype": "f8"
         },
         "yaxis": "y"
        },
        {
         "hovertemplate": "Country Name=Angola<br>Year=%{x}<br>GDP Growth (%)=%{y}<extra></extra>",
         "legendgroup": "Angola",
         "line": {
          "color": "#FFA15A",
          "dash": "solid"
         },
         "marker": {
          "symbol": "circle"
         },
         "mode": "lines",
         "name": "Angola",
         "orientation": "v",
         "showlegend": true,
         "type": "scatter",
         "x": {
          "bdata": "swe0B7UHtge3B7gHuQe6B7sHvAe9B74HvwfAB8EHwgfDB8QHxQfGB8cHyAfJB8oHywfMB80HzgfPB9AH0QfSB9MH1AfVB9YH1wfYB9kH2gfbB9wH3QfeB98H4AfhB+IH4wfkB+UH5gfnB+gH",
          "dtype": "i2"
         },
         "xaxis": "x",
         "y": {
          "bdata": "6tph65mZEcDq2mHrmZkRwOraYeuZmRHA6tph65mZEcDq2mHrmZkRwOraYeuZmRHA6tph65mZEcDq2mHrmZkRwOraYeuZmRHA6tph65mZEcDq2mHrmZkRwAAAAAAAAAAA8+KqLM3MEEA0+UuRAAAYQCJ/j7v//wtAAvcRHTQzB0DAS+YOvFQQQPsaid37gxhAAajOgmhPpT/Ad+BWzZkLwP7CmyQ3ue8/Taq2Q2ZaF8BI9Nc+wfs3wO460loIbvU/Su/3AAAALkDEMe6htxYrQMU5sCncGB1A4A4u5bvDEkAF3ajhsHMBQLxen9TebwhAUoYXSfHSEEBhYkIo1VQrQAJSuB6F6wdA5HqZZmbmJUCmmKQoXA8uQHlhh5mZGSdAGNibuB4FLECc8T49ClcmQATMebkehes/DL6m3O+XEUBCawTNw8YLQI1WAw+PFSFAMBwUFIbRE0BbLyj6TEoTQP9yqvy8Me4/dfxZEfGjBMAIcsGn39fCv3BDPUbRD/W/fW46IwV55r/i7acoiI0WwHF0Kl/3L/M/HvlrlJlbCEBUlC9I5T/xP5ZpagcUshFA",
          "dtype": "f8"
         },
         "yaxis": "y"
        }
       ],
       "layout": {
        "hovermode": "x unified",
        "legend": {
         "title": {
          "text": "Country Name"
         },
         "tracegroupgap": 0
        },
        "template": {
         "data": {
          "bar": [
           {
            "error_x": {
             "color": "#2a3f5f"
            },
            "error_y": {
             "color": "#2a3f5f"
            },
            "marker": {
             "line": {
              "color": "#E5ECF6",
              "width": 0.5
             },
             "pattern": {
              "fillmode": "overlay",
              "size": 10,
              "solidity": 0.2
             }
            },
            "type": "bar"
           }
          ],
          "barpolar": [
           {
            "marker": {
             "line": {
              "color": "#E5ECF6",
              "width": 0.5
             },
             "pattern": {
              "fillmode": "overlay",
              "size": 10,
              "solidity": 0.2
             }
            },
            "type": "barpolar"
           }
          ],
          "carpet": [
           {
            "aaxis": {
             "endlinecolor": "#2a3f5f",
             "gridcolor": "white",
             "linecolor": "white",
             "minorgridcolor": "white",
             "startlinecolor": "#2a3f5f"
            },
            "baxis": {
             "endlinecolor": "#2a3f5f",
             "gridcolor": "white",
             "linecolor": "white",
             "minorgridcolor": "white",
             "startlinecolor": "#2a3f5f"
            },
            "type": "carpet"
           }
          ],
          "choropleth": [
           {
            "colorbar": {
             "outlinewidth": 0,
             "ticks": ""
            },
            "type": "choropleth"
           }
          ],
          "contour": [
           {
            "colorbar": {
             "outlinewidth": 0,
             "ticks": ""
            },
            "colorscale": [
             [
              0,
              "#0d0887"
             ],
             [
              0.1111111111111111,
              "#46039f"
             ],
             [
              0.2222222222222222,
              "#7201a8"
             ],
             [
              0.3333333333333333,
              "#9c179e"
             ],
             [
              0.4444444444444444,
              "#bd3786"
             ],
             [
              0.5555555555555556,
              "#d8576b"
             ],
             [
              0.6666666666666666,
              "#ed7953"
             ],
             [
              0.7777777777777778,
              "#fb9f3a"
             ],
             [
              0.8888888888888888,
              "#fdca26"
             ],
             [
              1,
              "#f0f921"
             ]
            ],
            "type": "contour"
           }
          ],
          "contourcarpet": [
           {
            "colorbar": {
             "outlinewidth": 0,
             "ticks": ""
            },
            "type": "contourcarpet"
           }
          ],
          "heatmap": [
           {
            "colorbar": {
             "outlinewidth": 0,
             "ticks": ""
            },
            "colorscale": [
             [
              0,
              "#0d0887"
             ],
             [
              0.1111111111111111,
              "#46039f"
             ],
             [
              0.2222222222222222,
              "#7201a8"
             ],
             [
              0.3333333333333333,
              "#9c179e"
             ],
             [
              0.4444444444444444,
              "#bd3786"
             ],
             [
              0.5555555555555556,
              "#d8576b"
             ],
             [
              0.6666666666666666,
              "#ed7953"
             ],
             [
              0.7777777777777778,
              "#fb9f3a"
             ],
             [
              0.8888888888888888,
              "#fdca26"
             ],
             [
              1,
              "#f0f921"
             ]
            ],
            "type": "heatmap"
           }
          ],
          "histogram": [
           {
            "marker": {
             "pattern": {
              "fillmode": "overlay",
              "size": 10,
              "solidity": 0.2
             }
            },
            "type": "histogram"
           }
          ],
          "histogram2d": [
           {
            "colorbar": {
             "outlinewidth": 0,
             "ticks": ""
            },
            "colorscale": [
             [
              0,
              "#0d0887"
             ],
             [
              0.1111111111111111,
              "#46039f"
             ],
             [
              0.2222222222222222,
              "#7201a8"
             ],
             [
              0.3333333333333333,
              "#9c179e"
             ],
             [
              0.4444444444444444,
              "#bd3786"
             ],
             [
              0.5555555555555556,
              "#d8576b"
             ],
             [
              0.6666666666666666,
              "#ed7953"
             ],
             [
              0.7777777777777778,
              "#fb9f3a"
             ],
             [
              0.8888888888888888,
              "#fdca26"
             ],
             [
              1,
              "#f0f921"
             ]
            ],
            "type": "histogram2d"
           }
          ],
          "histogram2dcontour": [
           {
            "colorbar": {
             "outlinewidth": 0,
             "ticks": ""
            },
            "colorscale": [
             [
              0,
              "#0d0887"
             ],
             [
              0.1111111111111111,
              "#46039f"
             ],
             [
              0.2222222222222222,
              "#7201a8"
             ],
             [
              0.3333333333333333,
              "#9c179e"
             ],
             [
              0.4444444444444444,
              "#bd3786"
             ],
             [
              0.5555555555555556,
              "#d8576b"
             ],
             [
              0.6666666666666666,
              "#ed7953"
             ],
             [
              0.7777777777777778,
              "#fb9f3a"
             ],
             [
              0.8888888888888888,
              "#fdca26"
             ],
             [
              1,
              "#f0f921"
             ]
            ],
            "type": "histogram2dcontour"
           }
          ],
          "mesh3d": [
           {
            "colorbar": {
             "outlinewidth": 0,
             "ticks": ""
            },
            "type": "mesh3d"
           }
          ],
          "parcoords": [
           {
            "line": {
             "colorbar": {
              "outlinewidth": 0,
              "ticks": ""
             }
            },
            "type": "parcoords"
           }
          ],
          "pie": [
           {
            "automargin": true,
            "type": "pie"
           }
          ],
          "scatter": [
           {
            "fillpattern": {
             "fillmode": "overlay",
             "size": 10,
             "solidity": 0.2
            },
            "type": "scatter"
           }
          ],
          "scatter3d": [
           {
            "line": {
             "colorbar": {
              "outlinewidth": 0,
              "ticks": ""
             }
            },
            "marker": {
             "colorbar": {
              "outlinewidth": 0,
              "ticks": ""
             }
            },
            "type": "scatter3d"
           }
          ],
          "scattercarpet": [
           {
            "marker": {
             "colorbar": {
              "outlinewidth": 0,
              "ticks": ""
             }
            },
            "type": "scattercarpet"
           }
          ],
          "scattergeo": [
           {
            "marker": {
             "colorbar": {
              "outlinewidth": 0,
              "ticks": ""
             }
            },
            "type": "scattergeo"
           }
          ],
          "scattergl": [
           {
            "marker": {
             "colorbar": {
              "outlinewidth": 0,
              "ticks": ""
             }
            },
            "type": "scattergl"
           }
          ],
          "scattermap": [
           {
            "marker": {
             "colorbar": {
              "outlinewidth": 0,
              "ticks": ""
             }
            },
            "type": "scattermap"
           }
          ],
          "scattermapbox": [
           {
            "marker": {
             "colorbar": {
              "outlinewidth": 0,
              "ticks": ""
             }
            },
            "type": "scattermapbox"
           }
          ],
          "scatterpolar": [
           {
            "marker": {
             "colorbar": {
              "outlinewidth": 0,
              "ticks": ""
             }
            },
            "type": "scatterpolar"
           }
          ],
          "scatterpolargl": [
           {
            "marker": {
             "colorbar": {
              "outlinewidth": 0,
              "ticks": ""
             }
            },
            "type": "scatterpolargl"
           }
          ],
          "scatterternary": [
           {
            "marker": {
             "colorbar": {
              "outlinewidth": 0,
              "ticks": ""
             }
            },
            "type": "scatterternary"
           }
          ],
          "surface": [
           {
            "colorbar": {
             "outlinewidth": 0,
             "ticks": ""
            },
            "colorscale": [
             [
              0,
              "#0d0887"
             ],
             [
              0.1111111111111111,
              "#46039f"
             ],
             [
              0.2222222222222222,
              "#7201a8"
             ],
             [
              0.3333333333333333,
              "#9c179e"
             ],
             [
              0.4444444444444444,
              "#bd3786"
             ],
             [
              0.5555555555555556,
              "#d8576b"
             ],
             [
              0.6666666666666666,
              "#ed7953"
             ],
             [
              0.7777777777777778,
              "#fb9f3a"
             ],
             [
              0.8888888888888888,
              "#fdca26"
             ],
             [
              1,
              "#f0f921"
             ]
            ],
            "type": "surface"
           }
          ],
          "table": [
           {
            "cells": {
             "fill": {
              "color": "#EBF0F8"
             },
             "line": {
              "color": "white"
             }
            },
            "header": {
             "fill": {
              "color": "#C8D4E3"
             },
             "line": {
              "color": "white"
             }
            },
            "type": "table"
           }
          ]
         },
         "layout": {
          "annotationdefaults": {
           "arrowcolor": "#2a3f5f",
           "arrowhead": 0,
           "arrowwidth": 1
          },
          "autotypenumbers": "strict",
          "coloraxis": {
           "colorbar": {
            "outlinewidth": 0,
            "ticks": ""
           }
          },
          "colorscale": {
           "diverging": [
            [
             0,
             "#8e0152"
            ],
            [
             0.1,
             "#c51b7d"
            ],
            [
             0.2,
             "#de77ae"
            ],
            [
             0.3,
             "#f1b6da"
            ],
            [
             0.4,
             "#fde0ef"
            ],
            [
             0.5,
             "#f7f7f7"
            ],
            [
             0.6,
             "#e6f5d0"
            ],
            [
             0.7,
             "#b8e186"
            ],
            [
             0.8,
             "#7fbc41"
            ],
            [
             0.9,
             "#4d9221"
            ],
            [
             1,
             "#276419"
            ]
           ],
           "sequential": [
            [
             0,
             "#0d0887"
            ],
            [
             0.1111111111111111,
             "#46039f"
            ],
            [
             0.2222222222222222,
             "#7201a8"
            ],
            [
             0.3333333333333333,
             "#9c179e"
            ],
            [
             0.4444444444444444,
             "#bd3786"
            ],
            [
             0.5555555555555556,
             "#d8576b"
            ],
            [
             0.6666666666666666,
             "#ed7953"
            ],
            [
             0.7777777777777778,
             "#fb9f3a"
            ],
            [
             0.8888888888888888,
             "#fdca26"
            ],
            [
             1,
             "#f0f921"
            ]
           ],
           "sequentialminus": [
            [
             0,
             "#0d0887"
            ],
            [
             0.1111111111111111,
             "#46039f"
            ],
            [
             0.2222222222222222,
             "#7201a8"
            ],
            [
             0.3333333333333333,
             "#9c179e"
            ],
            [
             0.4444444444444444,
             "#bd3786"
            ],
            [
             0.5555555555555556,
             "#d8576b"
            ],
            [
             0.6666666666666666,
             "#ed7953"
            ],
            [
             0.7777777777777778,
             "#fb9f3a"
            ],
            [
             0.8888888888888888,
             "#fdca26"
            ],
            [
             1,
             "#f0f921"
            ]
           ]
          },
          "colorway": [
           "#636efa",
           "#EF553B",
           "#00cc96",
           "#ab63fa",
           "#FFA15A",
           "#19d3f3",
           "#FF6692",
           "#B6E880",
           "#FF97FF",
           "#FECB52"
          ],
          "font": {
           "color": "#2a3f5f"
          },
          "geo": {
           "bgcolor": "white",
           "lakecolor": "white",
           "landcolor": "#E5ECF6",
           "showlakes": true,
           "showland": true,
           "subunitcolor": "white"
          },
          "hoverlabel": {
           "align": "left"
          },
          "hovermode": "closest",
          "mapbox": {
           "style": "light"
          },
          "paper_bgcolor": "white",
          "plot_bgcolor": "#E5ECF6",
          "polar": {
           "angularaxis": {
            "gridcolor": "white",
            "linecolor": "white",
            "ticks": ""
           },
           "bgcolor": "#E5ECF6",
           "radialaxis": {
            "gridcolor": "white",
            "linecolor": "white",
            "ticks": ""
           }
          },
          "scene": {
           "xaxis": {
            "backgroundcolor": "#E5ECF6",
            "gridcolor": "white",
            "gridwidth": 2,
            "linecolor": "white",
            "showbackground": true,
            "ticks": "",
            "zerolinecolor": "white"
           },
           "yaxis": {
            "backgroundcolor": "#E5ECF6",
            "gridcolor": "white",
            "gridwidth": 2,
            "linecolor": "white",
            "showbackground": true,
            "ticks": "",
            "zerolinecolor": "white"
           },
           "zaxis": {
            "backgroundcolor": "#E5ECF6",
            "gridcolor": "white",
            "gridwidth": 2,
            "linecolor": "white",
            "showbackground": true,
            "ticks": "",
            "zerolinecolor": "white"
           }
          },
          "shapedefaults": {
           "line": {
            "color": "#2a3f5f"
           }
          },
          "ternary": {
           "aaxis": {
            "gridcolor": "white",
            "linecolor": "white",
            "ticks": ""
           },
           "baxis": {
            "gridcolor": "white",
            "linecolor": "white",
            "ticks": ""
           },
           "bgcolor": "#E5ECF6",
           "caxis": {
            "gridcolor": "white",
            "linecolor": "white",
            "ticks": ""
           }
          },
          "title": {
           "x": 0.05
          },
          "xaxis": {
           "automargin": true,
           "gridcolor": "white",
           "linecolor": "white",
           "ticks": "",
           "title": {
            "standoff": 15
           },
           "zerolinecolor": "white",
           "zerolinewidth": 2
          },
          "yaxis": {
           "automargin": true,
           "gridcolor": "white",
           "linecolor": "white",
           "ticks": "",
           "title": {
            "standoff": 15
           },
           "zerolinecolor": "white",
           "zerolinewidth": 2
          }
         }
        },
        "title": {
         "text": "GDP Growth Over Time - Top 5 Countries"
        },
        "xaxis": {
         "anchor": "y",
         "domain": [
          0,
          1
         ],
         "title": {
          "text": "Year"
         }
        },
        "yaxis": {
         "anchor": "x",
         "domain": [
          0,
          1
         ],
         "title": {
          "text": "GDP Growth (%)"
         }
        }
       }
      }
     },
     "metadata": {},
     "output_type": "display_data"
    }
   ],
   "source": [
    "# Interactive time series for selected countries\n",
    "countries_to_plot = df['Country Name'].value_counts().head(5).index.tolist()\n",
    "df_selected = df[df['Country Name'].isin(countries_to_plot)]\n",
    "\n",
    "fig = px.line(df_selected, x='Year', y='GDP_Growth', color='Country Name',\n",
    "              title='GDP Growth Over Time - Top 5 Countries',\n",
    "              labels={'GDP_Growth': 'GDP Growth (%)'})\n",
    "fig.update_layout(hovermode='x unified')\n",
    "fig.show()"
   ]
  },
  {
   "cell_type": "markdown",
   "metadata": {},
   "source": [
    "## 8. Insights Summary"
   ]
  },
  {
   "cell_type": "code",
   "execution_count": 10,
   "metadata": {},
   "outputs": [
    {
     "name": "stdout",
     "output_type": "stream",
     "text": [
      "=== KEY INSIGHTS ===\n",
      "\n",
      "Total countries: 266\n",
      "Year range: 1971 - 2024\n",
      "\n",
      "Average GDP Growth: 3.06%\n",
      "Average Inflation: 48.50%\n",
      "Average Unemployment: 7.98%\n",
      "\n",
      "Data completeness:\n",
      "GDP Growth: 98.5%\n",
      "Inflation: 90.2%\n",
      "Unemployment: 92.1%\n"
     ]
    }
   ],
   "source": [
    "print('=== KEY INSIGHTS ===\\n')\n",
    "print(f'Total countries: {df[\"Country Name\"].nunique()}')\n",
    "print(f'Year range: {df[\"Year\"].min()} - {df[\"Year\"].max()}')\n",
    "print(f'\\nAverage GDP Growth: {df[\"GDP_Growth\"].mean():.2f}%')\n",
    "print(f'Average Inflation: {df[\"Inflation\"].mean():.2f}%')\n",
    "print(f'Average Unemployment: {df[\"Unemployment\"].mean():.2f}%')\n",
    "print(f'\\nData completeness:')\n",
    "print(f'GDP Growth: {(1 - df[\"GDP_Growth\"].isnull().mean()) * 100:.1f}%')\n",
    "print(f'Inflation: {(1 - df[\"Inflation\"].isnull().mean()) * 100:.1f}%')\n",
    "print(f'Unemployment: {(1 - df[\"Unemployment\"].isnull().mean()) * 100:.1f}%')"
   ]
  },
  {
   "cell_type": "code",
   "execution_count": null,
   "metadata": {},
   "outputs": [],
   "source": []
  }
 ],
 "metadata": {
  "kernelspec": {
   "display_name": "newenv",
   "language": "python",
   "name": "python3"
  },
  "language_info": {
   "codemirror_mode": {
    "name": "ipython",
    "version": 3
   },
   "file_extension": ".py",
   "mimetype": "text/x-python",
   "name": "python",
   "nbconvert_exporter": "python",
   "pygments_lexer": "ipython3",
   "version": "3.12.2"
  }
 },
 "nbformat": 4,
 "nbformat_minor": 4
}
