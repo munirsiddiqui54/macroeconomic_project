{
 "cells": [
  {
   "cell_type": "code",
   "execution_count": null,
   "id": "83aa2597",
   "metadata": {},
   "outputs": [],
   "source": [
    "# Load processed data\n",
    "df = pd.read_csv('../data/processed/macroeconomic.csv')\n",
    "\n",
    "print(f'Dataset shape: {df.shape}')\n",
    "df.head()"
   ]
  }
 ],
 "metadata": {
  "language_info": {
   "name": "python"
  }
 },
 "nbformat": 4,
 "nbformat_minor": 5
}
